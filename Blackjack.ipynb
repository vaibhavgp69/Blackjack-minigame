{
  "nbformat": 4,
  "nbformat_minor": 0,
  "metadata": {
    "colab": {
      "provenance": [],
      "toc_visible": true,
      "authorship_tag": "ABX9TyO8J5lzMGiYGJuGzRj6hRBO",
      "include_colab_link": true
    },
    "kernelspec": {
      "name": "python3",
      "display_name": "Python 3"
    },
    "language_info": {
      "name": "python"
    }
  },
  "cells": [
    {
      "cell_type": "markdown",
      "metadata": {
        "id": "view-in-github",
        "colab_type": "text"
      },
      "source": [
        "<a href=\"https://colab.research.google.com/github/vaibhavgp69/Blackjack-minigame/blob/main/Blackjack.ipynb\" target=\"_parent\"><img src=\"https://colab.research.google.com/assets/colab-badge.svg\" alt=\"Open In Colab\"/></a>"
      ]
    },
    {
      "cell_type": "code",
      "execution_count": 2,
      "metadata": {
        "colab": {
          "base_uri": "https://localhost:8080/"
        },
        "id": "7Qf-GdVc4A-8",
        "outputId": "7db707d5-4ee1-48c4-9fb7-fce93160e4cc"
      },
      "outputs": [
        {
          "output_type": "stream",
          "name": "stdout",
          "text": [
            "\n",
            ".------.            _     _            _    _            _    \n",
            "|A_  _ |.          | |   | |          | |  (_)          | |   \n",
            "|( \\/ ).-----.     | |__ | | __ _  ___| | ___  __ _  ___| | __\n",
            "| \\  /|K /\\  |     | '_ \\| |/ _` |/ __| |/ / |/ _` |/ __| |/ /\n",
            "|  \\/ | /  \\ |     | |_) | | (_| | (__|   <| | (_| | (__|   < \n",
            "`-----| \\  / |     |_.__/|_|\\__,_|\\___|_|\\_\\ |\\__,_|\\___|_|\\_\\\n",
            "      |  \\/ K|                            _/ |                \n",
            "      `------'                           |__/           \n",
            "\n",
            "\n",
            "\n",
            "Thank you for playing Blackjack  :)\n"
          ]
        }
      ],
      "source": [
        "import random\n",
        "from google.colab import output\n",
        "\n",
        "logo = \"\"\"\n",
        ".------.            _     _            _    _            _    \n",
        "|A_  _ |.          | |   | |          | |  (_)          | |   \n",
        "|( \\/ ).-----.     | |__ | | __ _  ___| | ___  __ _  ___| | __\n",
        "| \\  /|K /\\  |     | '_ \\| |/ _` |/ __| |/ / |/ _` |/ __| |/ /\n",
        "|  \\/ | /  \\ |     | |_) | | (_| | (__|   <| | (_| | (__|   < \n",
        "`-----| \\  / |     |_.__/|_|\\__,_|\\___|_|\\_\\ |\\__,_|\\___|_|\\_\\\\\n",
        "      |  \\/ K|                            _/ |                \n",
        "      `------'                           |__/           \n",
        "\"\"\"\n",
        "cards = [11, 2, 3, 4, 5, 6, 7, 8, 9, 10, 10, 10, 10]\n",
        "def print_results(ply_cards,comp_cards):\n",
        "\tprint(f\"\\nYour cards were: {ply_cards} , Your score : {sum(ply_cards)}\")\n",
        "\tprint(f\"\\nComputers cards were: {comp_cards} , Computers score : {sum(comp_cards)}\")\n",
        "\n",
        "def game():\n",
        "\toutput.clear()\n",
        "\tk=0\n",
        "\th=0\n",
        "\tprint(logo)\n",
        "\tcomp_cards=random.choices(cards,k=2)\n",
        "\tply_cards=random.choices(cards,k=2)\n",
        "\tprint(f\"\\n\\n\\nYour cards: {ply_cards} , current score : {sum(ply_cards)}\")\n",
        "\tprint(f\"\\nComputers First card: {comp_cards[0]}\")\n",
        "\t\n",
        "\t#comps game\n",
        "\twhile (sum(comp_cards)<=17):\n",
        "\t\tcomp_cards.append(random.choice(cards))\n",
        "\t\tif 11 in comp_cards and sum(comp_cards)>21:\n",
        "\t\t\t\tcomp_cards.remove(11)\n",
        "\t\t\t\tcomp_cards.append(1)\n",
        "\tif(sum(ply_cards)==21):\n",
        "\t\tprint(\"\\n\\nYou win with a BlackJack 😌/ayo\\😌\")\n",
        "\t\tprint_results(ply_cards,comp_cards)\t\n",
        "\t\tk=1\n",
        "\twhile (sum(ply_cards)<21):\n",
        "\t\tif input(\"\\nType 'y' to Get another card ,type 'n' to pass: \")=='y':\n",
        "\t\t\tnew_card=random.choice(cards)\n",
        "\t\t\tply_cards.append(new_card)\n",
        "\t\t\tif 11 in ply_cards and sum(ply_cards)>21:\n",
        "\t\t\t\tply_cards.remove(11)\n",
        "\t\t\t\tply_cards.append(1)\n",
        "\t\t\tprint(f\"\\nYou pulled a : {new_card} , Your total is : {sum(ply_cards)}\")\n",
        "\t\t\n",
        "\t\telse:\n",
        "\t\t\tbreak\t\n",
        "\t\n",
        "\t\t\n",
        "\tif sum(ply_cards)>21 and 11 not in ply_cards:\n",
        "\t\tprint(\"\\n\\nYou Lose from overpulling 😔\")\n",
        "\t\tprint_results(ply_cards,comp_cards)\n",
        "\t\t\n",
        "\telif (sum(ply_cards)==sum(comp_cards)):\n",
        "\t\tprint(\"\\n\\nDraw 😔\")\n",
        "\t\tprint_results(ply_cards,comp_cards)\n",
        "\t\t\n",
        "\telif(sum(ply_cards)==21) and k!=1:\n",
        "\t\tprint(\"\\n\\nYou win with a BlackJack 😌/ayo\\😌\")\n",
        "\t\tprint_results(ply_cards,comp_cards)\t\n",
        "\t\th=1\t\n",
        "\t\n",
        "\telif (sum(comp_cards))>21 and k==0 and h==0 :\n",
        "\t\tprint(\"\\n\\nYou win , computer overpulled 😌\")\n",
        "\t\tprint_results(ply_cards,comp_cards)\n",
        "\n",
        "\telif(sum(comp_cards)==21):\n",
        "\t\tprint(\"\\n\\\\nYou lose , Computer got  a BlackJack 💀💀\")\n",
        "\t\tprint_results(ply_cards,comp_cards)\t\n",
        "\t\t\n",
        "\telif(sum(ply_cards)<21):\n",
        "\t\tif (sum(ply_cards)>sum(comp_cards)):\n",
        "\t\t\tprint(\"\\n\\nYou win against the computer 😌\")\n",
        "\t\t\tprint_results(ply_cards,comp_cards)\n",
        "\t\telse:\n",
        "\t\t\tprint(\"\\n\\nYou lose against the computer 😔 \")\n",
        "\t\t\tprint_results(ply_cards,comp_cards)\n",
        "\tstart()\n",
        "def start():\n",
        "\tif input(\"\\n\\n\\nDo you want to Play a game of Black-Jack? , enter 'y' for yes and 'n for no'\") =='y':\n",
        "\t \tgame()\n",
        "\telse:\n",
        "\t\toutput.clear()\n",
        "\t\tprint(logo)\n",
        "\t\tprint(\"\\n\\nThank you for playing Blackjack  :)\")\n",
        "start()"
      ]
    }
  ]
}